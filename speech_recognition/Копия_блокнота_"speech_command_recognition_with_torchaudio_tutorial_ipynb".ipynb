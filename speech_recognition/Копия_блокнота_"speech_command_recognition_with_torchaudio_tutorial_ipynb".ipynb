{
  "nbformat": 4,
  "nbformat_minor": 0,
  "metadata": {
    "kernelspec": {
      "display_name": "Python 3",
      "language": "python",
      "name": "python3"
    },
    "language_info": {
      "codemirror_mode": {
        "name": "ipython",
        "version": 3
      },
      "file_extension": ".py",
      "mimetype": "text/x-python",
      "name": "python",
      "nbconvert_exporter": "python",
      "pygments_lexer": "ipython3",
      "version": "3.6.12"
    },
    "colab": {
      "name": "Копия блокнота \"speech_command_recognition_with_torchaudio_tutorial.ipynb\"",
      "provenance": []
    },
    "accelerator": "GPU"
  },
  "cells": [
    {
      "cell_type": "code",
      "metadata": {
        "id": "A7vH3Ts8lys9"
      },
      "source": [
        "%matplotlib inline"
      ],
      "execution_count": null,
      "outputs": []
    },
    {
      "cell_type": "markdown",
      "metadata": {
        "id": "Pd2RjKIzlytC"
      },
      "source": [
        "\n",
        "Speech Command Recognition with torchaudio\n",
        "******************************************\n",
        "\n",
        "This tutorial will show you how to correctly format an audio dataset and\n",
        "then train/test an audio classifier network on the dataset.\n",
        "\n",
        "Colab has GPU option available. In the menu tabs, select “Runtime” then\n",
        "“Change runtime type”. In the pop-up that follows, you can choose GPU.\n",
        "After the change, your runtime should automatically restart (which means\n",
        "information from executed cells disappear).\n",
        "\n",
        "First, let’s import the common torch packages such as\n",
        "`torchaudio <https://github.com/pytorch/audio>`__ that can be installed\n",
        "by following the instructions on the website.\n",
        "\n",
        "\n"
      ]
    },
    {
      "cell_type": "code",
      "metadata": {
        "id": "U17z_Gm0lytD",
        "colab": {
          "base_uri": "https://localhost:8080/"
        },
        "outputId": "1776a322-0838-4df8-fb07-642f0f3df80e"
      },
      "source": [
        "# Uncomment the line corresponding to your \"runtime type\" to run in Google Colab\n",
        "\n",
        "# CPU:\n",
        "# !pip install pydub torch==1.7.0+cpu torchvision==0.8.1+cpu torchaudio==0.7.0 -f https://download.pytorch.org/whl/torch_stable.html\n",
        "\n",
        "# GPU:\n",
        "!pip install pydub torch==1.7.0+cu101 torchvision==0.8.1+cu101 torchaudio==0.7.0 -f https://download.pytorch.org/whl/torch_stable.html\n",
        "\n",
        "import torch\n",
        "import torch.nn as nn\n",
        "import torch.nn.functional as F\n",
        "import torch.optim as optim\n",
        "import torchaudio\n",
        "import sys\n",
        "\n",
        "import matplotlib.pyplot as plt\n",
        "import IPython.display as ipd\n",
        "\n",
        "from tqdm import tqdm"
      ],
      "execution_count": null,
      "outputs": [
        {
          "output_type": "stream",
          "text": [
            "Looking in links: https://download.pytorch.org/whl/torch_stable.html\n",
            "Collecting pydub\n",
            "  Downloading pydub-0.25.1-py2.py3-none-any.whl (32 kB)\n",
            "Collecting torch==1.7.0+cu101\n",
            "  Downloading https://download.pytorch.org/whl/cu101/torch-1.7.0%2Bcu101-cp37-cp37m-linux_x86_64.whl (735.3 MB)\n",
            "\u001b[K     |████████████████████████████████| 735.3 MB 13 kB/s \n",
            "\u001b[?25hCollecting torchvision==0.8.1+cu101\n",
            "  Downloading https://download.pytorch.org/whl/cu101/torchvision-0.8.1%2Bcu101-cp37-cp37m-linux_x86_64.whl (12.7 MB)\n",
            "\u001b[K     |████████████████████████████████| 12.7 MB 160 kB/s \n",
            "\u001b[?25hCollecting torchaudio==0.7.0\n",
            "  Downloading torchaudio-0.7.0-cp37-cp37m-manylinux1_x86_64.whl (7.6 MB)\n",
            "\u001b[K     |████████████████████████████████| 7.6 MB 7.6 MB/s \n",
            "\u001b[?25hRequirement already satisfied: typing-extensions in /usr/local/lib/python3.7/dist-packages (from torch==1.7.0+cu101) (3.7.4.3)\n",
            "Requirement already satisfied: numpy in /usr/local/lib/python3.7/dist-packages (from torch==1.7.0+cu101) (1.19.5)\n",
            "Requirement already satisfied: future in /usr/local/lib/python3.7/dist-packages (from torch==1.7.0+cu101) (0.16.0)\n",
            "Collecting dataclasses\n",
            "  Downloading dataclasses-0.6-py3-none-any.whl (14 kB)\n",
            "Requirement already satisfied: pillow>=4.1.1 in /usr/local/lib/python3.7/dist-packages (from torchvision==0.8.1+cu101) (7.1.2)\n",
            "Installing collected packages: dataclasses, torch, torchvision, torchaudio, pydub\n",
            "  Attempting uninstall: torch\n",
            "    Found existing installation: torch 1.9.0+cu102\n",
            "    Uninstalling torch-1.9.0+cu102:\n",
            "      Successfully uninstalled torch-1.9.0+cu102\n",
            "  Attempting uninstall: torchvision\n",
            "    Found existing installation: torchvision 0.10.0+cu102\n",
            "    Uninstalling torchvision-0.10.0+cu102:\n",
            "      Successfully uninstalled torchvision-0.10.0+cu102\n",
            "\u001b[31mERROR: pip's dependency resolver does not currently take into account all the packages that are installed. This behaviour is the source of the following dependency conflicts.\n",
            "torchtext 0.10.0 requires torch==1.9.0, but you have torch 1.7.0+cu101 which is incompatible.\u001b[0m\n",
            "Successfully installed dataclasses-0.6 pydub-0.25.1 torch-1.7.0+cu101 torchaudio-0.7.0 torchvision-0.8.1+cu101\n"
          ],
          "name": "stdout"
        },
        {
          "output_type": "stream",
          "text": [
            "/usr/local/lib/python3.7/dist-packages/torchaudio/backend/utils.py:54: UserWarning: \"sox\" backend is being deprecated. The default backend will be changed to \"sox_io\" backend in 0.8.0 and \"sox\" backend will be removed in 0.9.0. Please migrate to \"sox_io\" backend. Please refer to https://github.com/pytorch/audio/issues/903 for the detail.\n",
            "  '\"sox\" backend is being deprecated. '\n"
          ],
          "name": "stderr"
        }
      ]
    },
    {
      "cell_type": "markdown",
      "metadata": {
        "id": "3mFQk0kGlytE"
      },
      "source": [
        "Let’s check if a CUDA GPU is available and select our device. Running\n",
        "the network on a GPU will greatly decrease the training/testing runtime.\n",
        "\n",
        "\n"
      ]
    },
    {
      "cell_type": "code",
      "metadata": {
        "id": "gRxAo8wklytE",
        "colab": {
          "base_uri": "https://localhost:8080/"
        },
        "outputId": "88b9f968-599a-4d48-db7f-053badb21998"
      },
      "source": [
        "device = torch.device(\"cuda\" if torch.cuda.is_available() else \"cpu\")\n",
        "print(device)"
      ],
      "execution_count": null,
      "outputs": [
        {
          "output_type": "stream",
          "text": [
            "cuda\n"
          ],
          "name": "stdout"
        }
      ]
    },
    {
      "cell_type": "markdown",
      "metadata": {
        "id": "R46sI5itlytF"
      },
      "source": [
        "Importing the Dataset\n",
        "---------------------\n",
        "\n",
        "We use torchaudio to download and represent the dataset. Here we use\n",
        "`SpeechCommands <https://arxiv.org/abs/1804.03209>`__, which is a\n",
        "datasets of 35 commands spoken by different people. The dataset\n",
        "``SPEECHCOMMANDS`` is a ``torch.utils.data.Dataset`` version of the\n",
        "dataset. In this dataset, all audio files are about 1 second long (and\n",
        "so about 16000 time frames long).\n",
        "\n",
        "The actual loading and formatting steps happen when a data point is\n",
        "being accessed, and torchaudio takes care of converting the audio files\n",
        "to tensors. If one wants to load an audio file directly instead,\n",
        "``torchaudio.load()`` can be used. It returns a tuple containing the\n",
        "newly created tensor along with the sampling frequency of the audio file\n",
        "(16kHz for SpeechCommands).\n",
        "\n",
        "Going back to the dataset, here we create a subclass that splits it into\n",
        "standard training, validation, testing subsets.\n",
        "\n",
        "\n"
      ]
    },
    {
      "cell_type": "code",
      "metadata": {
        "id": "gtqSKKlclytG"
      },
      "source": [
        "from torchaudio.datasets import SPEECHCOMMANDS\n",
        "import os\n",
        "\n",
        "\n",
        "class SubsetSC(SPEECHCOMMANDS):\n",
        "    def __init__(self, subset: str = None):\n",
        "        super().__init__(\"./\", download=True)\n",
        "\n",
        "        def load_list(filename):\n",
        "            filepath = os.path.join(self._path, filename)\n",
        "            with open(filepath) as fileobj:\n",
        "                return [os.path.join(self._path, line.strip()) for line in fileobj]\n",
        "\n",
        "        if subset == \"validation\":\n",
        "            self._walker = load_list(\"validation_list.txt\")\n",
        "        elif subset == \"testing\":\n",
        "            self._walker = load_list(\"testing_list.txt\")\n",
        "        elif subset == \"training\":\n",
        "            excludes = load_list(\"validation_list.txt\") + load_list(\"testing_list.txt\")\n",
        "            excludes = set(excludes)\n",
        "            self._walker = [w for w in self._walker if w not in excludes]\n",
        "\n",
        "\n",
        "# Create training and testing split of the data. We do not use validation in this tutorial.\n",
        "train_set = SubsetSC(\"training\")\n",
        "test_set = SubsetSC(\"testing\")\n",
        "\n",
        "waveform, sample_rate, label, speaker_id, utterance_number = train_set[1]"
      ],
      "execution_count": null,
      "outputs": []
    },
    {
      "cell_type": "markdown",
      "metadata": {
        "id": "NX6_7X2ylytH"
      },
      "source": [
        "A data point in the SPEECHCOMMANDS dataset is a tuple made of a waveform\n",
        "(the audio signal), the sample rate, the utterance (label), the ID of\n",
        "the speaker, the number of the utterance.\n",
        "\n",
        "\n"
      ]
    },
    {
      "cell_type": "code",
      "metadata": {
        "id": "w1INy9H6lytH",
        "colab": {
          "base_uri": "https://localhost:8080/",
          "height": 299
        },
        "outputId": "e736eebb-e80c-4679-be29-658ef0962408"
      },
      "source": [
        "print(\"Shape of waveform: {}\".format(waveform.size()))\n",
        "print(\"Sample rate of waveform: {}\".format(sample_rate))\n",
        "\n",
        "plt.plot(waveform.t().numpy());"
      ],
      "execution_count": null,
      "outputs": [
        {
          "output_type": "stream",
          "text": [
            "Shape of waveform: torch.Size([1, 16000])\n",
            "Sample rate of waveform: 16000\n"
          ],
          "name": "stdout"
        },
        {
          "output_type": "display_data",
          "data": {
            "image/png": "[encoded data removed]",
            "text/plain": [
              "<Figure size 432x288 with 1 Axes>"
            ]
          },
          "metadata": {
            "tags": [],
            "needs_background": "light"
          }
        }
      ]
    },
    {
      "cell_type": "markdown",
      "metadata": {
        "id": "RXfvmwN4lytI"
      },
      "source": [
        "Let’s find the list of labels available in the dataset.\n",
        "\n",
        "\n"
      ]
    },
    {
      "cell_type": "code",
      "metadata": {
        "id": "MpqbngvXlytJ",
        "colab": {
          "base_uri": "https://localhost:8080/"
        },
        "outputId": "6dfb9e19-7570-4bdc-c717-58b78c9da7c3"
      },
      "source": [
        "labels = sorted(list(set(datapoint[2] for datapoint in train_set)))\n",
        "labels"
      ],
      "execution_count": null,
      "outputs": [
        {
          "output_type": "execute_result",
          "data": {
            "text/plain": [
              "['backward',\n",
              " 'bed',\n",
              " 'bird',\n",
              " 'cat',\n",
              " 'dog',\n",
              " 'down',\n",
              " 'eight',\n",
              " 'five',\n",
              " 'follow',\n",
              " 'forward',\n",
              " 'four',\n",
              " 'go',\n",
              " 'happy',\n",
              " 'house',\n",
              " 'learn',\n",
              " 'left',\n",
              " 'marvin',\n",
              " 'nine',\n",
              " 'no',\n",
              " 'off',\n",
              " 'on',\n",
              " 'one',\n",
              " 'right',\n",
              " 'seven',\n",
              " 'sheila',\n",
              " 'six',\n",
              " 'stop',\n",
              " 'three',\n",
              " 'tree',\n",
              " 'two',\n",
              " 'up',\n",
              " 'visual',\n",
              " 'wow',\n",
              " 'yes',\n",
              " 'zero']"
            ]
          },
          "metadata": {
            "tags": []
          },
          "execution_count": 8
        }
      ]
    },
    {
      "cell_type": "markdown",
      "metadata": {
        "id": "BXbXurC5lytJ"
      },
      "source": [
        "The 35 audio labels are commands that are said by users. The first few\n",
        "files are people saying “marvin”.\n",
        "\n",
        "\n",
        "|"
      ]
    },
    {
      "cell_type": "code",
      "metadata": {
        "id": "v_pBrurIlytK",
        "colab": {
          "base_uri": "https://localhost:8080/",
          "height": 52
        },
        "outputId": "92326104-ba0e-431b-bead-0fa1c87f1ce6"
      },
      "source": [
        "waveform_first, *_ = train_set[0]\n",
        "ipd.Audio(waveform_first.numpy(), rate=sample_rate)\n",
        "\n",
        "waveform_second, *_ = train_set[1]\n",
        "ipd.Audio(waveform_second.numpy(), rate=sample_rate)"
      ],
      "execution_count": null,
      "outputs": [
        {
          "output_type": "execute_result",
          "data": {
            "text/html": [
              "\n",
              "                <audio controls=\"controls\" >\n",
              "                    <source src=\"data:audio/wav;base64,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\" type=\"audio/wav\" />\n",
              "                    Your browser does not support the audio element.\n",
              "                </audio>\n",
              "              "
            ],
            "text/plain": [
              "<IPython.lib.display.Audio object>"
            ]
          },
          "metadata": {
            "tags": []
          },
          "execution_count": 18
        }
      ]
    },
    {
      "cell_type": "markdown",
      "metadata": {
        "id": "FFYuZQNZlytK"
      },
      "source": [
        "The last file is someone saying “visual”.\n",
        "\n",
        "\n"
      ]
    },
    {
      "cell_type": "code",
      "metadata": {
        "id": "I9EHPQEqlytL",
        "colab": {
          "base_uri": "https://localhost:8080/",
          "height": 52
        },
        "outputId": "66b521b8-3fce-4d1d-cb5f-28797980375a"
      },
      "source": [
        "waveform_last, *_ = train_set[-1]\n",
        "ipd.Audio(waveform_last.numpy(), rate=sample_rate)"
      ],
      "execution_count": null,
      "outputs": [
        {
          "output_type": "execute_result",
          "data": {
            "text/html": [
              "\n",
              "                <audio controls=\"controls\" >\n",
              "                    <source src=\"data:audio/wav;base64,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\" type=\"audio/wav\" />\n",
              "                    Your browser does not support the audio element.\n",
              "                </audio>\n",
              "              "
            ],
            "text/plain": [
              "<IPython.lib.display.Audio object>"
            ]
          },
          "metadata": {
            "tags": []
          },
          "execution_count": 10
        }
      ]
    },
    {
      "cell_type": "code",
      "metadata": {
        "colab": {
          "base_uri": "https://localhost:8080/",
          "height": 52
        },
        "id": "ksbyvWph8KNI",
        "outputId": "7c78a24d-4271-4150-feb3-889b36376a3c"
      },
      "source": [
        "waveform_third, *_ = train_set[-10]\n",
        "ipd.Audio(waveform_third.numpy(), rate=sample_rate)"
      ],
      "execution_count": null,
      "outputs": [
        {
          "output_type": "execute_result",
          "data": {
            "text/html": [
              "\n",
              "                <audio controls=\"controls\" >\n",
              "                    <source src=\"data:audio/wav;base64,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\" type=\"audio/wav\" />\n",
              "                    Your browser does not support the audio element.\n",
              "                </audio>\n",
              "              "
            ],
            "text/plain": [
              "<IPython.lib.display.Audio object>"
            ]
          },
          "metadata": {
            "tags": []
          },
          "execution_count": 27
        }
      ]
    },
    {
      "cell_type": "markdown",
      "metadata": {
        "id": "nMPqMdtvlytM"
      },
      "source": [
        "Formatting the Data\n",
        "-------------------\n",
        "\n",
        "This is a good place to apply transformations to the data. For the\n",
        "waveform, we downsample the audio for faster processing without losing\n",
        "too much of the classification power.\n",
        "\n",
        "We don’t need to apply other transformations here. It is common for some\n",
        "datasets though to have to reduce the number of channels (say from\n",
        "stereo to mono) by either taking the mean along the channel dimension,\n",
        "or simply keeping only one of the channels. Since SpeechCommands uses a\n",
        "single channel for audio, this is not needed here.\n",
        "\n",
        "\n"
      ]
    },
    {
      "cell_type": "code",
      "metadata": {
        "id": "zrFL17rq2s-0"
      },
      "source": [
        "# we can use spectogram instead waveform\n",
        "my_spec = torchaudio.transforms.Spectrogram()(waveform)"
      ],
      "execution_count": null,
      "outputs": []
    },
    {
      "cell_type": "code",
      "metadata": {
        "id": "jc_8Bl2ClytN",
        "colab": {
          "base_uri": "https://localhost:8080/",
          "height": 52
        },
        "outputId": "0da8ee8c-b8e0-4df8-8b88-974a0dcbac5e"
      },
      "source": [
        "new_sample_rate = 8000\n",
        "transform = torchaudio.transforms.Resample(orig_freq=sample_rate, new_freq=new_sample_rate)\n",
        "transformed = transform(waveform)\n",
        "\n",
        "ipd.Audio(transformed.numpy(), rate=new_sample_rate)"
      ],
      "execution_count": null,
      "outputs": [
        {
          "output_type": "execute_result",
          "data": {
            "text/html": [
              "\n",
              "                <audio controls=\"controls\" >\n",
              "                    <source src=\"data:audio/wav;base64,UklGRqQ+AABXQVZFZm10IBAAAAABAAEAQB8AAIA+AAACABAAZGF0YYA+AAD5//H//P/+//H/7f/s/+r/6//k/+D/2//d/+P/6f/z//3/9v/7//v/8f/z//P/+P8AABAADgAHABcAGgAQAP//AAAIAAAACQANAAwAEwAIAA0ADgAPABYAEwAXABgAEAAMAA8ACAAGAAgA+f/r//j////0//P/AAD8//v/BQD7//L/+v/9//j//v8AAP//7f/r//X/+f/3/+b/7P/y//H/8P/0//X//v8DAAMA+//4/wAAAAD6/wAA/f/2/wEA/v/3//f//v/6/wQAGAAGAAAADAAMAAsAFgAYACAAHwAnABoADwAaABQAEAAXABMAAQD//wQAAgD5//7/BAAAAPP/9P8AAP//DAADAAoAEQAHAPv///////T/BAD7//n/AAD8/+//8f/4/+v/5v/s/+P/7//7/wMAAwD+/wAA///8/wEA9P/k/+n/5v/f//L/7//m/+7/+f/u//j/AAAFABAAIwAhAB0AIQAlABwAJQAeABoAFAAWAAEA+/8EAP//CQAHAPr/9/8DAPv/8v8GAAgABAD6/wIA//8BAPz/+P/9//T/4v/b/9H/1P/c/+j/2v/k/9z/8P/v//7///////v/AwABAPz///8NAAcACQACAAAA+f8CAAYABwASABsAIwAtACoAIwAeAB8AHAAaABIAEgAOAAcACwAIAAUA/f/z/+r/8f/3/+b/4P/u//H//P/+/wAAAQAIAPn/6f/k/+T/9f/4/+3/9f/x/+z/7v/e/+T/5//j/+H/5//r/+f/5P/v//P/9P/8//L/9f8HAAkADQANABYAFAATABYAFwATAA0AGgAlACYAJwAYACUALQAhABgAEwAdABkAGgAPAAQABwADAAAA///0//T//P/1//P/7f/s/+n/7P/u/+H/2f/i/+j/9P/1//b/9f/6/wQAAAD9//7/BAD9/wMAAQAEAA0AEAAIAAAA8//q/+j/7P/x/+3/6P/y/wEAAQD7//z/9v/8////BAD9/wAAAwAIAAkABgD+//f/9//6//3/BgAFAAwAFAAcABwAKgAeACAAKgAvADQANwA1ADYAOgAuAC0AJAAaABQADAD8//r/8f/s//X/9//t/+f/5//i/+j/6//q/+r/6//w/+//6//q//H/7v/m/+D/3//g/+b/4P/f/9f/4v/w//T/8v/y//H/8f/7/wEA+v/7/wkAGAAUAA4AEAAVABcAEAAPABYAHQAZABUAHgAfAB8AJgAoAB4ADwAJAA0AFQAPAAUA///2//L/8f/x/+X/7P/p/+n/8v/z//T/7v/m/+v/7f/0//j//P/+/wUABQAIAAMA/f/+//r////6////CwAKABAACgAQABUAEAAPABQADgALAAwAEAAPAAcACQAGAAkABAAEAAIA9v/3//z/AQACAPv/9v/v/+z/6f/r/+//9P/v/+b/8/////7/+v8DAPv/AAAIAAUABwARABkAFQAVABQAFQALAAkACgASAAsABgAIAA0AEAAGAAAA/P8DAAcAAQD9//n/AAABAPT/7//o/+X/6v/s/+f/7v/n/+r/7v/2/wIABQAMAAkACAAIAAwADwASAAsADgAQAAYA/P/9/wkABAD2/+//7//5/////P/6/wEA/v/2//f/AQAFAP7////7//v/+P/2/+7/8v/9//r/9//y//b//f8AAAAA//8DAA4ACwAIAAkADAAOAAYABgALAP7/BAADAAAABgAAAPn/+/8BAPz/AgAIAAoAEwATAAMAAAAIAAgACAAAAP7/AAAEAAMABAD+//j/9v/w/+z/8//4//3//P/2//X/AAAJAAMAAAABAAQAAgACAAIA/P8HAAAACAAIAAgAAwABAAkACgACAAAA/f/5//j//v/0//r/BAAEAPv//v/5//n//P/9//v//P/4//n//f8DAAMABwD+//f/9//4//r/+f/3/+3/7//t/+7/+f/+////AQAFAPv/+f8BAAQAEAAEAPv/+v8EAAYACQAGAAAAAAASABEABwAKAAEACAAQAAUABQAHAAgACgAKAAQA/f8AAAIABwAJAP//DAAUAA4ABAAKAA0AEQAYAA4AEAANABQAEQAeABoAEQAYABoACAAAAPv/9v/5//b/9//z//f/9//q/+P/4P/c/+L/4f/i/9X/3v/e/+T/7//w/+r/5P/i/9j/5P/s/+b/6//3//X/9f////z/DQAUAAwAEgAVAA8AGwAXABgADgAPABgAHwAgACAAGAAKAB4AFQAZABUAFAAQABQADgAJAA8AFAAhAB4AGQALAAAAAwAMAPv/9f/6//f/7//u/+T/6f/l/97/3//j/+X/5f/i/9z/4P/f/+X/7P/v//j/8f/o/+j/7P/r//X//P8AAPr//f8HABAAGgAgABQAFgAZABkAGAASAAkADwAQAA0AEQAUABgAFQAXABsAHQAfABoAGQAOAA0ACQABAAsABwALAAwACwD8/wEAAQAAAAAAAQD2//n/AAD+//3/9f/x/+r/6//r/+P/5P/j/9X/1P/W/9b/5f/r/+//8//7/wAA//8GAA0ADQAMAA4AFAARAA0AFQAOAAgA//8EAAYABQAGAPv/8f/y//f/+f///wIABwACAAcAEQAQAAoACgAAAPT/+P/z//7/BgAIAAAAAwAHAAMADAAIAAEA/f8AAPr/7v/8/wUA+v/8/+7/3//Y/+7/8v/y//T/+f8HAP///v/4//j//P/1//r/8v/1/wQADgAWABMA/f/5/wwAEgAEAAQA9v/0/+v/7f/8//7/CAAPAAoADAAKABAACgAOAAkACgALAAkAEAAQABgADwAIAAoACgAAAP3/8f/1//L/AQD6/wUACgALAA0AEwATABAABgD8//b/9f/v//b/8f8AAAgABwAEAAgA/v/1/+z/8f/j/+H/5f/p//b/+/8NACEALAAdABIAAQD2//D/7v/4/+n/+/8FAP3/9P/m/8T/0P/1//r/AAA2AFoATgBPABoAtP+m/6z/Uv9g/1v/Vv9g/3P/yv84ANsAJwFnAR0BpACo/7f+uf1A/U79//0l/8MASALGA78EMgW+BKkDEAJnAMv+Rv32+z37Y/tt/Pr9aP8wAHcAcQCTAJUAYwDy/5f/y/+gAK4BOAIbAlgBvQBcAGUAEQB5/3L+T/1B/Mj7Ovx//UL/ZwGDA2MEJAUTBdwFRwWLAu/8hvSG7cLl3t8c3y7mdP8lHe48TlNITitEpyaOBTvb07SJopmaTLGE0m/41yIMRNhctFsbSFQhS+u0wMadFJGun3DIZAXTOztjJ299ZpRLAByd5EGw1ZFMjUig+sRA9D0pHFLYbYN/AF02KA3zJL0Enm+USKNDv3H1si7aRt9TcE4ONaUMnOi7y/60qbxD0UfpMgTCF9YoqzGTLpoWkPLT4OjQOsaovUfO3CAnYv9/cHnWReYYGO/fzDacf4AApOfRSw+HRgpYxk+8Pj0xnAd40nWqrZZHqPzHhuoyHKlZrX67aUM9FA441yirM5jsnbK37ulQIYlFQ1IQTdRBDCWs8jzFBKp2qJ/AqetdG4Y5lkGpOjA+Iiv6+pHSgb+oyFvaku8V/lMK9Sh0OGQfZPiN3VPaleJt8tf0e/B9//MTCh/cF1IDmPSi+Lr5reeFz7LHN9feDrBNCGutbUBSgyqP/PjTqqaAlhi6iuVCD/4xKkpdRGcnLw6Z6jTJ1LmxuE7K7uRb/uEYbEX9ZWJTRCJK9oDSML+Tus/AqNdN/yQtjj2JJbUCV/08BuD8YetZ533yHgOXFDkX4AyeBmn8hPCK7y/27/Us9ZsOHScRHVkExud21Tzj3/co9pryGAVNI+ExBCA+/RLlJOBg5YHqiO2h9O4CzQuDBv/8IwJEEkwewQ8w6fzK6sPO8+hFE3upcfw9XQUK2FK6QqNKqWLTQgwePXdPWUTkIJjzP9yy3kPbENEv11ztHQAvCfwUGScxN0AznxSH8+vdFN856/roLeDg4h/6Aw8dEBIEGgnaJhQyuxyP/x7p+t0c4Sfuzv3pB9ASFhyoFLEExfC33f/ZtvN+FjghzBdSBkD/sQXc897czteF620FbwrO9Xjft+pdB/IZnBoxEOwH3QFp9kfjR9UY5UALFifQL5ErqRpGAy/lL+ILB1ImpCNjH2QKG9z/0/zlX/Y7CB0TxQ66A08Dbf4Y3GzHUOekFf8qlCNsD67/XOrW1zLiDfxFEg4YpBITGp4e9Qk089vw7PXo9aL21fgI88z44hKdJBERV/tJ9+X1Y/xRA/MElAPB9o/okeP67f75bQJKD8ATZCL8JasKE95/woTMpe4J/Y8ETRCbI6QoiQ/L6ovVvtp59kkbJiowHXgLZvtl9Hn2Mu359KgSxC2oJMQAAeS73O3n4vHG2L/KuxR3cg1zSz609RS2l7Ty0h/UStrbClE3LzuAK20WpurbxaHVu/8kG1smaR1+BaLxEeK+22X2Th+YNQAqPA6w89LjOtJAz1zj3PsSFmAtcSkkFIcJzwCw2qLMk+dZ+a8AqxZ0ITYMMPHn6A7kL+Tu+HIMQgZf/lAQzzAxKpD/FOIa4UXohvF2+zQEjxj9LXccLenC0xvoDgMAEaQRNQq1ChEEX/CS3tfhdv2lEdEVORGk+Szl3+2GAn8L2vwC507d0eqBK+pmSk6hIxQDR9O7tU+/UtWR9sojwDjbNrssbBeC65LIMNh5ANIIoPvL9oEBdwQ18j7v9g0BJrQgQwO463fov+Sk5pfx5/QsAeAg7Cz7E4r0LPJDBGQBG+vb5b/xnvwvCsQQEAZO+aL4//4PBjUInAON/e8NEykKIcMBndpVxDDTHPg8BbQARg8SJH8mOQlu3nHOdd3k+NIVlyQ3Fjv9nfQI9i706PR8BjAZ8hBD/Hjshum7/c8WVRRx7w/CmtCbNDB5IFquJzf5Z8w/wF/Gncbn5i8siEz+O3oiDwOXziOuKcu8AbUg2yU2G+IGyOc7z1nePg96NGspLQol/nD5euJq0LbYevNUEOMs7SwOBjLnw/Po/7Pxt+0h/fEIPRL0ETsDg/je9F/vT/Lq/dYA2v89CeslfyshCBLhhdQq0xzrYwnUAK75Eh2wNUgZ3e2P1ALXJfSsGjIhtw9LBkMEUPWi55LpR/2qGQIfcAg78Gfs8vLi+OICfP9z3V7fiDT/eEtWdRAJ45vOdcadz2zZMOIODnVEoU5uLh/9dMt0uAvW5QXDFFoEAAV+GK8HfuLZ5MQWfi0XE7z1qeyI9Hz2d/NI7PrzmAZ4EtoQUwO/8rn/YhmtDhj3gPp8A0n53vTf+3TxUOxuA/4Q8AveE5oeKxEm+bHryOB/1Q3hugJhGkATrvs+7YT51xZ/HxMHEO1H7Gv3nv9x+Wj2XQI7E64Xhw/gAgj5kvey8+LuXOn57CEF5BXeCI/6DwvaMzhID0ACFezZF7oRxMnb7OjF984IUCgdRbs0gf6T21XnjvvF+/Twf+5E+Mz5VPL2A/0stTtzGxH1a+EX28nZ0uJF+CcPlhwNHPgHV/Ev8p0FtQ2bAbHwIPBSA60Q3gxyA5gH2AbP/cb0YPzb/NLvKu00/5gL8f1E9v/1zvWt+jX7hvI89x0HpREQDssEpv03/B39igM1DFsSzgoa+sf21PgF98r3YgW4C679ZuZK3h/noBWXVlxmyS056kndX/SR7LzZP95m/FUFkvwv+l//WQhiDAQLEQjODo4SJv/E5HjfcupR9h4JDhwZGQ0E7AACFp0VierXyobVi/DK+QL4AQNqGpEt4yZTBAPpaPNLC/IN+vUa437r4/wH+Hvo4e5tCUAVnQX6/MUE6Ah+9mvj3e1uEE4jgRU9/yf0dfJw9RH7YAA5A5AMQxR/DSz/8/rU/3ABm/pJ9HH1Tv9wCAIIzALvAGYHwRANDo0IpwolCtgEiwOqBj36Puwr8q3+hvjr8tj80QdwBlkC4v1d+hL61vmh80bwAfupD4IXNA3m/tD5GQEcAez11+9A+yIDYP+59z/3mfuHBY0HNf96AQsOlQ9OBDL3CvNX9Ir3Hvdf9pf9eQcgBQj57fgCBsIQqRC1BYD4SPRR983+mAAN/Vb/MAqVEXIKfPfp6xX1ngAPAdD9XQEnBQ4H3QXu/9n+mALRAoz70fYt/6QKKQpxAHb+gwE3/nD1BPJ0+FoFFAwTCRcIfgq+CV4DSfmu81n1Rvk4+cD8TAXuDLIOcQmJAnP8GP5EAvMAAP1cAHACVf0Y+Rz65/3MBGQG/f3m9cz4bwK1Bbj+AfqB/l4C4gAZ/j77i/ns/KsESgi/Aiz5a/bj+2f/HPoE9dT83g3JFIsJr/kp9OX6EgPmAob7yvr6AigJGQjBApn+APuJ+WH7V/2u/xUE5QYqBIgApv8yAK3/Mf5H/xn+n/qV+pr+KAPjBlMHUAUyAj//Ef3e/oEDKwffBoUC7P1p+nX5+/r3/lwESgeiBJwDMwigCr4D7/o0+K35GP16/of9Ff/MA/cEUP6J9zD4Dv1KADUBuwBP/93/iwJ6Afz6Cvce/PgFnwnPBDgATQDp/6X8Tfol/asCbAX/Agz+ffwzAGMDyAGu/yEAKAKxAgEB0f5V/Nb6Lfzc/UH+MQE4BjsFc/+o/CP83fhr+tMDdgh9A+b+wf9iAE/+wf3s/V3+8f80AuMCSwHD/8T/HQKHA3UCcAJZBHIDMv+L+0D7G//QAwwDq/7g/y4G0wXK/v/7x/5GAJH/VP5c+zn6HP4hATP+Lfvd/U0C9wPaAl4BsAD//6j+NPzy+l3+VATNBoYEJwLGATAA6PxK+/X7Ef4/AdYDFQW2BK8DXQF7/VP8Kf+ZAZIAv/7W/pv+aP1H/Wf+Ef5B/CX98v+fAKf/s/9YALv+BfzR+zL/3gKlBGwE2QIDAa//P/4n/UD+Z/9f/yz/KABYAmgDTAI4/x78NP16AbQD1QIMAR0ADwANAeUAl/8P/ub8z/x8/kwArwDhANIBzwHb/8X9F/4MAAcCUwNtA+ACBAKbAFP+pPzQ/H/+YgAIAUEAQP8H/+3+KP7t/Wj+2P4q/x4AjgJMBOAC1/7V/PX/XQNsAmUAzP+h/xT+tvyH/M79UgDPAi4DpAFnAKT/jv0j/ZT/gAJ8A0MCNgDt/d/8vf5AAYsBRAD3/wwA0f4d/V79GABLAav/V/7l/+ABQwL3ANn+Ff+eA6MHlAdlAmL7yfWr88T3Wf/FBdkHnwZ4Agr+uvsO/SUBlwSCBMIBzv12+nb5//ufAI8FJQn5CI4C5vh785b1L/y/A9MJhwp+BWX+9PhJ9/D54f+dBcEH3wR3/rf4O/l1/7kGSwk+Bvj+8vdt9Cj26/sPA/IIQgoZBzYCmf6R/YL+nP4B/kX8H/w9/Jf+zgDFA74EvgRjA94ADP3E+638x/6j/8IAZQHSAakAYf8t/xYAmQFWAgwB/f4L/Tb+YwLEBWoExP8F+kf2R/bH+6YCTAhBCsQIOANi/DX5+Pql/+wCLQNYACr9m/oQ+jf8vgEpBvkHWwUPAQr8XfmN+uX9BwKMBDgFPQNn/6f7A/oW+17+dQL5BGEENAF7/G751/km/XcCJwelCpsLhggUAcH5TfW89bj4Gf1cAFYDbwTQA+EAgf6F/ioBiAMzBFoC+v5v+8v56ftc/4QDWQV+BtQDbf9c+lH5Rvvb/msCVAUOBScDof+0/ZX82P3lANIDYgMxAAj8//mt+8z/bAJaA4YB1P/f/nH+nv4p/7//1f9BAB0AoQDTASgDyQKrANn9V/20/Uf+bf5Q/2r/WP9f/iAAwwFaBIIEKgTjAOb9S/vi+tz7h/4DApkFDwaPA6H/4/t++uH6av70AUIFxQSrA1kApP71/an/GwExArL//Py0+gH8Of7gAWwE7gWKBK8Awf3f+8T7dfyt/+kC9gSqAqb/QP0L/XH9rv8KAu4DEgO4AGv+sf0//r3/bgB5AGP/2f0w/OP7h/1EAAYDtATqBBgEJwKBAIn/1v+Y/4n+Qv3l/GP9l/03/lP/+wAIAhMDywJEAq0Al/87/zIAMwDP//X+4f5r/n/+Cf9xAJYBXQH5AE8AVgCY/17/nP44/z7/igAjAUQBjf8Q//j+WQCOAM8AqAC/ADMAd/+6/pP+2v6x/20ARQHKAND/Bf9K/zUAGQH/AXECPwJ6AJX+lP0v/UH9gP3I/skAAwIzAhIC8gFnAeIAvwCxAEEAqv/I/sH+Hf9Y/7T+Vf3G/Of95/8JATEBygCtAJ8ARwHaAt4EggWyAyj/W/r99kH2nfYc91n23fQc9YP6ugV7E3Ee4SIxHwAUvgU2+fvx5e8H8MnvHu5M7OfsAPIj+5UFOg7yEakPHglCAo7+2P+qBLkJAwvfBg7/v/fX82j0uvjE/nAD8AOjADb87vne+0kAxQTqBbgDiP81/D/8IwCXBeoI9AcAA8v8efiu9wX6tP1/AIsBagD1/W77P/qq+n37Sfsr+tP3SfPG61Pli+kv/joedDzMStZF5zGlF6v/e+9L6P/k4t6h1DPLu8oB14/tngivH7QrPin8G4gMjgJeAKgEPgrlC6YFEfjg6erhXeOw6//1EP7rAdYA8/01/tgFKROIHoYgeRfxBy35hfB98PD2K/7mAA/9k/aJ85z2qP0kBL8GzQUuASz6vfTO9Uj+AwjzCs0Fkf2n+Cv4WPi790D2VfT08l/z3vh9AmYJ1QglAIf0oep45Q/tvwURKXBGSU0NQKgsTB2XE1YIK/gM423Kz7Ykss/Axtzq9u0H7BFfGZIgvSMFIM8Vjwd7/Lf5nv2CAvQAovgg7gzmNeUv7CT4vQM2B2IBavl++YsGrxfGIEschw35/Tf1G/YS/ycHnAWp+Ubs0OlV81IAXwnUCvEGDgGc+1r8ogLjB5EFbvn27BXrJfaSB0gRJA2aAKX0q/Cz8xv5s/08/Ur2++2+7Nb49QqhFDgQFgN3+Mz0B/X3+WoHTxzLL1g2Si/GI9EaOBMoB3n0yN6CyjS+AcFa0/zqXfsnAscJTRmxKpMxQCfqD831ReTZ4wbyYwG7A/X3m+vD6qX1GAMNC0kMcQnJBOEArgF6CF0QshBMB1f8xPjk/HQBNwHV/UL6g/YU81nzpvhy/5gBgP4R/QgBIQfwCCMFigS6ClEP7whw9/LoZOgB8NP0xfKF79fxLPigALULlRSRFTsN6QIHAksIzwmlAKXxBeqT7jf5fQNyBuEBqfr09Wv5fADDAPf4J/LE+38YGDTLOxsuaBocEYEOiQYn9WLetct1xFrLO9+d9KT/bwLjCJQbazEUOKUprhCb+07yx/Ht8mbxh+sh5lboKfPpAGsJMQopCZEKEwyeCRoCIvv3+bj6ufhJ8x3uQu6s8vD40f7WAE3+r/v2/twIdRCeDKkAOvf+9tP7k/0D/q4CtgrLDyQN2QmBDc0SaA+DAMXwL+sv7pzyXPa++4UBtAG3+lX1QPloAmAGe/9y9VL0L/1xCdcQ0Q+PCIz+zfa29GL1HPMM7EPkrOPP8aoMRysVQT1GAEBTNogsox0BBJLk5MoDv86/xsWTy+nTfuQhAOkglDfJOXwqKxeLDAUKIwej/qzxSOZX4V7luPDZ+pv8dfhX+RIFRBJnE1gHJvsv+bn9+f6u+3D6bf4gA6YECgZACnwOkg3OBs7+PvlM9Q3yl/GU9Qn7Mv2l/Jr/bwibEE8QZAjyAswFUAosB1760uz+56brMfL89vj5vPyP/0IC0QXcCVgLYQcwAJD8/P9+BOsCP/2J+Yr8jAKZBJMDsgFv/lz6rfbK9Y/3k/Ze9a3+pBIXJR8pACHcGycehhwgDd70quCQ1SfQas+21c/iCvEP/SEJyxXbHsYeVhgDEz0Rvg9CCzkFMQExAH7/3f1h+8/3wfTb8770C/SE77LqWew29n0BFwYaBWQFBAr3DnoOiwlpBNP+jPh+86bxDvMW9NbzrPdDAO8H2AoxCWALIROsFU4P+gRr/o//NwBD+eDwEu4J8Wz2zfmK++z9egCoAssD6gH2/uv99v4o/wT9zPzuAYEIQQoIBzgEvgP2AX3+Q/yw+4v6L/br8QXzJfeP+mT/TAmvFrUgCCORIcof6xvYEbQDV/gH8YLpu+Cu2wDeZuVD7Vr1xP9RCq0PKRA6EGERjxKRESMP2Q0FCzADX/qI9WfyNO0Y5hjiw+UK7YzxpvQY+1QFXA6eEoEUbRbyFlsT9QxPB6QC1Pzs9azvsesr6RnoN+uQ8lj6t/8qBMYKSRSTGeEWRBIEEI8Nngd5/lb1PPEh8Nvt2uwG76jxhfOq9xP/sQXtB4cHMwmVDqARzg6KDP8Nyg0gCN4Ay/uM+Fz0+e/o7mDx1vJc8y349f96BSYGKASnAwAG9gepB0UHJAk+DA8OdQ+LEKEOIQnLA0gBYwBg/m35rPSh85r00vX+99347PeI+Db8mADpAhED9QP4B0QLAgqHBp8EDgOM/jb4zfMx9Hj2YPbs9Jr2HfwAAYECWAONBlIKngq4B2UFTQQ9AnL+6fq6+QX64/kk+ef59/vY/Nv7UPx5Ad0GjwbsAv8B1wTVBlIE3v5q+8H7+fr094z2KvjB+UX7mv57A+YGEwebBtkHlAk8CD4EIgGG/639jPuP++b8vPyi+5L9qQGdA5ECZgFSAggDOwGC/tH+DgFHAmgBcP8b/4kACgFKAGIBvwMoBioIjQl7CwIOZA+9DbgKiwe/BMwBHf4P+SL1zPQq9Qn0m/I88031tPa59v33IP1xAj8EUgN7A7MFwweFBv4BWP7w/VD+Ifyn+aH5p/sZ/eL8vvxO/uT/Uf+2/UL9UP4g/8T+SP4Z/50ARQHFAJEAyQEsA+0CYwFLAUQDmATwAjoBrAGCAoACIQLXAYYBDgKIAtgC8QPrBBYE4wGQACIAN/8B/YX6VPnX+cn6Vvtc/LL97f4LAYYDTQRGBL8EywWsBm4GmgXVBMcCOf+I/P/6NPpa+R74CPe892D6ev0lAGQCPAWSB3QIcghJCHAIqQfsBKABOACTADoAlv7R/M77m/w+/5gAsP90/8EAngGwAb8B4wEKAnIBn/+R/Tz89/o3+Zj3pvYW9235OfyX/ar+BAH7A1gFpAQNA4wBSQAW/3L9UfuZ+sz7uvxf/Ir86v6dARYCOwFqAW8CpwK0AdQA3gAHAUwA2P/GAJ4BwgGrAn4DzAIbAigCbgEnADr/u/0w/H78y/2//pr/SwB+AKcBjwPEBJMFdgQ0AlEC5QJNAmcAMv4J/XT9Zv70/iv+4/5bAJIAlAC6AIgAPQBr/1T+Cv97AL3/8v6RAMcBPwKCAjgCewLJAZEBHwD2/uX+PP39/Pn8Kf1W/gj+df2B/WH9Dv6B/Uv9JP6n/Sn+Z/5Q/vH+5P75/60AGwHSAN0AKwK0AS4BMQGnAGYBMwI+AVcBKAEEAU4B4v/7/s7+u/4f/qr8VP15/qf+Zf4O/5QACQKoAiADJAOjAlQDEgKnAUABkf/+/8b+O/5u/j/+ef7Q/bT9K/5Y/nj/1v/X/08A6P8eAqYBMwH3APv/9AD6/4n/AACH/1b//f6tAGEAXAAZAYr+iv6a/j79g/5d/qD+UgE0AtMDBgS0BBoESQI6AoMBRgBCAND+Cf5e/8z+SP8N/0b/QP/E/sH+gP1q/fz+tf6D/oIAUAE4ArYC+gHb/x0AvP8m/fn8xfx8/HD+dP7a/SkAiwFvAjkClwI1AxgDBwNcAUoATwGnADQAaP/P/7P/gf+aAC4AxgA8ATcAXP8X/w/+Ev4U/Xz9Iv6H/ycAMAAeAfQBHgFEAf0AQQAdANr+Yv7K/Un+hP6y/of/QAB0AN8AXgB1ACUASABVAPH/ewD6AIYA2v8/ANn/pP9i/2f+B/7o/tT+Kv6Q/i7/WgAWAbkAcwEAAmsCfwIeAegAoQCjANn/vP7T/nf/+f6H/sf+GAB8AK0AyABfAAUB/gBJAAYA2AAzAKT/7P+n//j/eAB8/0L/5/9j/1z+av1v/ZP++f5X/9f/dwBSAWoArgDEAAQCdwLKAe0AFgBy/63+c/12/RT/RgBYAVECAAITAgUC0QCa/73/Kv+q/qv+8f2G/rD/qwDRAG8A5wCEAIH/8/4v/gr+9/7o/6b/kgBPAU4BdAHsALoAQABdAMv/9v7d/4//xP9OAIj/zP8cACIA+//0/6P/qf+2AEcAfABRAHEArwB1AEoAj/9F/8b/k/8x/6D///8ZALEAzwABAIwAqwDu/8n/OQB7/4v/RQDD/wYAxQCAACIBCgFhAKj/CP/h/mX+kf4//wgAjADjAAcB8wApAf8A/f/U//7/yP+i/0H/uf8wACgAyv/F/8L/fv84/8z+0f4P/w7/D//f/6QAygBIAYQB8ADSAD4AL//C/u3+uv7R/qb/igB3AMQAxACmAMQALgDl/+//TwBUAAIAVgCNAGkAQwC+/xn/DP88/yL/U//t/zMA5QC0AFUAngCbAH8AdwBwABsAWQCsABwATQCsAG8ACQDI/7P/FP8j/yX/Sf/v/08ADwCUAOAAqwBjAD0A9v+n/9n/nv97/+7/7P/B//P/wf9j/6P/lv9O/6P/+v/P/xcA3gA1AFEArwAkANr/rv90//j+Jv8z//3+yf8EAJP/OgBnACcA1v8EAOz/8/9nAP7/DgCDAFMA+v/r//P/+f8aANr/0v8oAF0ALQACAC4AHAAdAAcAwv9LAHYAegBwAKEAqABPAGMAAgDZ/9z/wP+y/7D/8v8BAB0ASwAnAB4AJQB/ADcAUwBYACAADgDm/8v/rv+z/+z/xv8DAPb/+f80AAYAAwD5/yAA4f/w/0IALgBNAIYAXAAJABIAyf/V/+T/l/+S/8X/CACy//P/OQALADIA+f+6/7z//f+0/27/vv+9/8H/BwC//5v/7v/U/2j/mf/c/63/xf/1/wkAJgA2AC8AYABrAB0APgBcADYABwD4//f/8P/9/w4A8/8mAD8AUgBPACcAMgARACEA6/+7/ygAGgAgACMABwAAAPT/3P+H/3v/v//m/+7/AwACAEwAeQBBAAYAJwBeADIAFQBNAFQASAAxAMz/uv+//77/tP+X/7n/0/8kAEIA+v8oADYA+//T/57/o/+r/7v/tf+t/w8AEwAVABAA4f8RAPP//f+1/8T/KAAqAD8AQwBFAGgAaQBVAP7/CwAEANP/zf+k/9z/BgANAOr/7f8PAO//7//g/9H//v83AFcARABtAG8AVgA3APf/tf/B/8X/4f/k/xQAVwBXAFIABADy/xUAAQDL/83///8ZAC4AFwAFABIAFwDo/8L/mv+X/7D/1v/X/+z/EwArAD4AFAARAAUAEgAQALn/sf/E//3/AgDx/xMABAAeAO7/tf/p////IQAFAOv/5P/Y/wUA4//o/+7/AAAwACcAHAAUAEMAYQAnAPn/3P/t/+b/2P/O/9z/BAD+/w0A7/8AAAQAEQD2/9T/2P/n//L/AADw//3/JAAfABUA8v8LAAUADQAWAOj/CAAMAA8AEwACACUAMwA1ABgA//8TACwAKgAEAOH/4P8QABgACwAOADoARQA7AAMA1f/n//7/7v/W/+D//P8OACgAEgAUACgAGwDs/7//qv/I/8r/tf+j/7j//f8BAPP/sP/K//P/xv+z/6P/tv/f/wQABAD2/wAAPwBEACgA6/8HADUAMgDv/9P/+v8lACEAGwACABcARwBLACUAAQAXAEwATQAOAPX/GQBPAEoAJQAnACcARgAfAOD/9f8KACcAFgDh////CgAbAP3/7v/3/xYAMAAkAAYA+P/9/w0A3/+z/7j/nv+//73/r//E/9H/5v/d/9D/zP/a/+r/wP+6/8f/4//x/+r/3P/9/wsAEQDt/9X/+f8AAP3/1//Q/+r/CAAHAPn/EAAgACgAMQAaABQALAAlACMAFQAbABsACQDs//f/CQAJAOn/4//X/9D/7f/j/9r/7//1/xUAHQALAPf/BAAwAEcALAAnACcAOAAxACcAGQD3/wwAHAAcABAADAATABYABwD9/+f/8v/z/+7/4P/k//D/7//x//L/AgD8/+L/1P/t/wQADQAIAAIADQAuACsAGAAVABQAHgA2ACoADgAVAAkABQAGAAkACgAOAAkAGwAZAAIA8P/m/+f/4v/f/+X/7//6//n//v/q/+b/5//o/+//3v/b/+j/9/8AAAkACQAFAAkA9//0/wAA+f/s/+3/9P//////+P/8/wkACAABAPL/9//2//f/9//t/+//8v/u/w8AGwALAA8AGgAZABoAFgASABYAFgAnAB0AKAAzAC4AGwAYACoAIwAKAPj/5f/3//D/4//l/9//+f/8/+3/7f/k//D/6f/0//T//f8TABEAGAAPAAMACgATABMAFwAhACMAIwAjABwACQD9//3/8f/6////9v/p/+v/6v/Z/+D/1f/I/9b/1P/h/+H/1P/e/+X/8v/w/+3/8P/v////AwD9/xsALwA5AC0ALAAsAC8AJQASAAgAGgAPAP3/7v/f/+7//v/v/+r/8//1/+7/4P/s/+v///8BAP3/DgAfADgANAAqADYAKgA2ACkAGwAZAA4ADwANAP//3f/c/9z/5f/1/+v//f8JAPX/5P/l/9b/3f/i/+b/6////wAA+f/s//z/+v8OABcAEwANABAACgAHAP//DAAIAAYAAAD8/wYA///3//X/8v/k/+b/1f/T/9b/0v/T/93/+//6/wgAGQAiABsAGgAfADIAKgAkABQADwAaAB8AHQANACYAMwAnABEABAAAAAAADwAIAPD/6f/n/wAA+P/x/+7/AAD6/+j/1f/U/9j/8//q/+n/8f/o/+v/9P/6//r/CgADAPf/8v/2/wQA/P/z//T/7v/9////AAD+/+7/3f/v//n/8v/w//3/+v/r/+X/7f/6/wUALwAuADAAMAAvACYAIQAmADIAMwAtACcAJgAeAA0ACgAHABMADgANAAAAAAD6/+b/9/8EAPz/CwD9//b/6//a/+T/6//b/+z/8//d/9D/2v/V/+b/9f/w/9//5v/u//b/BAAFAP//BQD+/+v/3v/j//P/+v8AAP//7f/r//H/9v/3/wsAHwAvACUAHQAoACcANAAtACcAHgAjAB0AEgAQAAEACQAbACEAGwAGAAYACQABAPX/8f/l//r/+v/h/+f//v///wMABQD9//z//f/6//b/9f/0/+r/5f/y/+L/7f/z/wkACAATAAEABAACAP//CQAJAA8ABgAJAPr/5f/V/9b/z//g/+f/8//x//v/+f/3//f/BgAIABsAJgAnACMAIwAkAB4AFgAiABkAGQAlABgAFwAYABsADAAAAPv//v/u//P/8v/f//H/8//r/+z/+f/z/+v/AwAAAAMA+//0//X/7P/s//v/+v/7/wIA8v/v/wMACQALAAQAAAADAPb/9//l/+D/5P/r//v/AAD9//r/8f/n/+T/4f/4//v//P8FAAYAAQAYABYAEgAOABEAGAAcABoAIQAjAC8AOgAcAB0AIwAjAB0AIQASABIABgD7//j/7f/s//X/8v/r/+b/5f/c/+D//f8LAAAACAAEABAACgAFAAsAGgAkABUAFAAMAAAA+P/6//r/AAD///H/7v/p/9T/y//N/83/y//T/9b/2v/i/+X/7f/w/+3/9P/y/+//CwADAAMAEgAPAAkACQASABgAEAD//wsAFQAVABIAFAATAP3//P8AAPn/+f8FACIAFQAJAA4ADgAKAAkABgD//xgADwAIAA0AGAAbACQAJAAcACEADwAMABYALAAkACYAGgAEAPP/3//c/9//+v///+r/6P/n/+//8f/7/wUABwD+/wAABwANABcAGwAKABAAEQAGAPz/8f/z//X/9f/y/wMABgAKAPv/AAAEAAAA///7/wMA9//z/+r/5//V/8j/1P/j/9X/0P/Z/+L/1v/X/9n/8v/w//3/EAAMAAcADAAeACcAIgAjACIACwAKABcAFgAKAAUABgAJABIAFwAbAB8AGQASABYAIAAuACgALAAqACUAGAAfACcAIAAuADwAKAApACgAEgASAAIAAwD+/+D/2//c/+L/6f/S/9T/2//Y/9L/3P/U/8v/sv/A/8n/v//W/93/4v/T/9b/1P/b/9n/5//w//P/9v/4/woACgAIABEAEQAaACcAKQAwAC0AMAAuADgAJQAqABwAHgAdACsAKwAtACgAMwAmACkAJQAWAAIA/////wMADAAGAAYACgASAAoADgAEAAQA///9/wkA/f/1////AgD6//j/7f/Y/9//6//u//D/8P/w//b/7f/m/+T/4//n/+D/2f/V/9j/6f/y//P/AAADAAIAAQABAAEAAQARABUACAATACEAFgAQABYAEAATAAMAFAALABQADAAGAAAADQAPAAQA+f/r/+//8f/9//j/7v/w/+//9v/1/+//9//1//L//f8SABYAFQAJAAMABQALABMACQADAPj/+v/9//v/+P/9/+3/6//1//T/7v/g/8n/3P/Y/9n/2P/w/wIABgABAPz/DgAYAA4AFgAMAAQABAANABgAFgATABAAEQAUAB0AHQA0ACEAGAAVACQAIgAQABYAFgAXABYAEgAOAAkACgAFAAAA//8AAPb/5P/0//3/+P/v/wAA7f/d/+X/6v/r//P///8EAPr/AQAEAAIA+//1//T/+P8LABIACgABAAEA+f/2/+X/3f/c/9//5P/k//b/7P/3////AgACAAQADAAQAAgADgATAAgABwAZAAkADgAUABAABwAEAAIAAQAVABQA+//q/+n/+f/6/wQACQAMAAsADQAAAPv/8f/m/+v/7//n/+X/6//q/+z/7//3////9v8CAP7/BwAHAAUA///t//r/+P/7//r//v8AAAQAAgD7/wgABQAAAAYAAAD9/wEACgAQAAsAGQAbABsACwAZABkAGgARABIAIQArACUAIwARABMAIgAOAAQACAAbABUADgAYABwAEwAIAPn/8f/i/+f/5P/v/+3/+/8DAAEA+//u/+r/+v/2//X/+v/6/wAACAAHAOz/5//h/+T/5f/b/+3/4f/e/9z/3P/U/8X/zv/g/+P/9/8AAAoACwAXABkAEgAOABYAHgAfACAAGgAgAB8AIQAmABsACAAOABAABQAGAAgADQAHAAwADQAFABcADAD4/+z/DAARAP3/DgAXAP///v8LAAcA/v8FAAYADwAWACEAMgAWABMAAwDy//T/7f/2///////+/wUA9//k/9P/zf/B/8D/zf/X/93/1//r/+b/4//g/+j/5//g/+r/DgAFAAAACAAIAAYAAAAJAAYAAQADABYAHQAbAAkAAAD6/+f/7f/v//P/+f8AABYAFgAfACkAHwAdAB0ALQAiACoARgBMAEAARABLADkALwAzACsAIwAXACAAEgASABkAEgACAAUAAQDz/+//8//o/+f/9P/t//D/7f/9/+3/2v/V/9P/0//Q/+H/4f/h/+n/1f/O/9r/3//Y/+r//P8AAAwABwANAAUAAQABAPz/CQAQAAAADwAWAAgAAgDz/+z/5P/v/+j/5v/t//X/AAAIABEAGAAAAP//AgAIAAUADQAVABEAIgAuACEAIAAjAAwACQAWABgAEwAdAAMAAADw/+r/8P/t//P/8P/t//7////y//j/8v/v//H/7//2//j/8v/x//T/+v8KAP3/CgAKAPn/+f8JAAIAEAAhADEAIwAnACQAEQAHAAMABgADAAQAAAAGAA0ABgANAA0ACwACAPf/AQAIAA8ABQACAA0ACQANABAABAD5/wkADAD5//f/9//8//D/5v/d/+T/8P/t/+n/5v/q//L//v8AAAIADQD9//r/+f/w/+v/3f/r/+7/6P/x/+7/+//9/wAACwD8/wEA9P/7/wEA+f/1////BwAKAAsABwAGAAoA+P8DAAYAAAARABQAEAARABoAEgAGABgAHgAfAB8AKQAvACcAEQABAPf/9P/y//P/8v///wIABQAKAAYABAAPAA0A/f8BAPv/9v8AAPf/8P/1//X/8v/q/+r/5v/x//r/+P8LAA0ABwAFAAQAAAD7/wgACwAFABAAEgApABwABgAAAPH/6v/v/+T/6v/t//r/7v/y//j/9v8BAAYABgAIAAAADwASABoAFgAWAB8AGQAXAAQABgANABQAGgAhABoAEwAAAAAA7f/l/97/2v/l/+j/3//g/9D/2//Y/9r/0P/W//X/7//w//v/6//n/+v/+v8BAP7/FQAXAC0AMAAoABsAGQAaABUA/v/2//z/AwAXABYAEgAEAAYA8//y/+3///8NABYAIgAkAA8ADQAKAA4ADwAPABIAGAAcACgAHAACAP7/9//l/+j/4//g//X/AAAEAAgA+v/+////7P/v//D/7//p//H/9//1/wAA+P/2/+f/6//y//D/9P8AAAEABwD3//T/2f/Y/+j/5//z/wAADQAIAA0AKAApAA8AEgASAAYADgAqAB4AFgAaABIAEgAMAAAA+/8OABEADAD9//n/6f/i/9v/yP/S/9v/8//k/+P/8v/7//r/AQABAPj/+f8HAAUADAAHAAIAAwABAA8ADwADAAQA+f8GAPD/4v/0//n/8//o/+7/6//s/wEAAAASABIAJwAeAAUACgANABUAIgAcACQAIgAhAAwA+f///wUABQAIAAcAAADw//n/7f/0/+n/6v/p//v/AgD2//n/+//9/wcABQAAAAIABAAJAPf//f/w/wMAEwAAAP3/5//b/83/0//Z/8P/uv/K/9L/1//I/9L/1//N/9z/6v/j/+n/BwAaABcAEAANABMAFgAXACcAJAAsADIAOAA2ACkAIwAfABgA/f/7/wIABAADABcAFQAUABsAHwAcAA0ACQAKAAAABwAUABYAFAAXABsAGQASAAUAEgANAAgACwAFAPj/8//s//X/9f/1/+7/1//a/9f/2//R/8X/1f/l/93/z//P/9//0v/Z//X//v8GAA8AIQATABsAFgAJAAYAAwAUAAwA/P/7//3/AAD5//f//f/3/wMA9f/w//r/9P/r/9//5f/7//T/+P8AAP3/CgAXACYAFQAdABoADQACAPr/AwADAAEAGgARABMAEAAIAAYA/f/4//f/+/8IAAsACAAKAA4ABgAFABEAAgAEAAIACAAAAAcAAQD9//j/8//z//3/7/8CAAgAAgANAAoAFwAZABYAFwAWABcABwAXABUADAATABsAEQANABUADwAHAPz/+f/k/+X/1v/q/+f/4v/e/9L/3v/e/+P/1P/g//7/7v/v//H/8P/d/+z/8//w/wwAEgALAPz//v8BAAoAFgATAAQADQAhABIACAACABQADgAVACAAGQAdABQAAwDw/+3/+v/4/wkABAAGAAwAFgAPABEA/f8IABUAKwAoABoABgD6/wMACQAEAP//6//p//b/+f/r//D/+//8//T/7f/i/+D/5v/o/+r/5P/w//b/CgAAAPj/9f/1//T/AwAEAAAA+v8BAPn//v8AAPL/6f/a/+D/8//5/wIAAwAAAAEACgASAAoABgAVACYAMQAmACIAEwAPAAUABgD8/wUABAAAAAEA/v/1//7/CQAFAA8ACwANABAADwAbABEAGQAdAB4ABQAEAAwAAAAIAPv/+f/z//3/AADz/+j/7//8//j/AwAFAPr/AQAXABoABwAEAPP/AQASAB0AAAD3/wQABAAAAPj/7v/5/wYADwD///z/BwAQAAUA9v///wgADQAKAAQA+/8BAAAAAgAJAAAA/v/t/+//9f/t/+n/4v/t/+r/7P/h//T////w/+T/5P/2/+//6//o/9f/9v8GAPj/5f/q//X/AQAGAPr/9P/3////AAALABMAAwATAB8AGAAVABUAJgA9ACsAIQArACcAIQALAP//AwAOAP7/8P/w/+3/+f/4/+n/4v/r//v////z/+3/8v8PAAYA+/8AAAgACAAHAA0AEgAEAOT/5P/q//3/BQD6//j/9//4//T/5f/n//D/9f/0/9z/3v/m/+T/5//v//f/AgD9//f/9//+//f/AQAOACAAHAAfACQAHwAcACsAPAApABQAFwAdABMADwD///n/9v/p/+3/6v/9/+j/6//6//n/AwD8/97/4P/x//P//P8AAP7/BwACABMABwD+/wUAAQAKAAEA+f/7//X/+P8FAAYACQACAPj/9P/2//L/9//+/+f/8f/1//n/8P/1////DgAUABMAFgASACUAGwAeACEAEgAeABgACwAZACoAIwAlAC4AKQAmABwAFwAYAB8AGQAVAAsACAAJAAoACgAIAPr//v/w/+r/5f/l/+b/1f/c/97/2//X/9f/1f/R/9r/2f/d/+b/8P/5//z//f/5//T/9P/4//f/9f8CAA0AJwAgABoAFAAQABYACgDz//f/AQAAAP//CQD+/wcABwAAAPj/7f8AABAAEAAZABsAJgAkABYADgAbABYAFgAXABAAFwACAP3/8f/7//v/7P/X/9D/2P/a/9T/2//y//b/6P/k//D/6P/t//j/AQABAAQADgANAAIAAAAEAB8AGQAIABwAJQAQAAUA/f////j/5P/4/+v/5v/k/+j/8v/9//r/BAAKAAAAIwAsABQAEAAXAA4AAgAFABAAFQATAB0AFQAOAAEA9v8BAAIA9//1//r/9v8EAAcA+f8GAP7//P/4/+H/7//5//z/DQATABoACwAHAAMABQD8//P/8f/4/wEA/f8MABUABwD9/+//7v/7//P/9f/2/wIA///8//z//f8AAP3/9//6/wAACgAOAB8AJgAXABgAHgASAA4ACAACAA4ADAD6/wQA+//x/+P/2//W/+r/5//f//D/6P/k/+f/9v8IABQALgAsADsAQAArACsAKQAbAAkAEgAGAAsAGgAHAAcACQAAAO7/1v/c/+f/8//Z/93/3f/d/+L/5//s//b/9P/z//T/+f8FABQAHAAQAAsAEAADAPr/AAD///X/8P/8/wAABQD+//7/8///////AAAFAAMABQAFAPz/+v/9//f/5P/1/wAAAwAHAAMA+v/z/+L/2//n//b/7//u//r/8//z//X/+/8KABIAHgArACYAJQA2AEMANwAlAB4AFQAAAAYA+P/1/+7/8//9/+7/+//8/xIABAD2//X/8//x//X/AAD8/+r/7//9//P/+f8OABYAEQADAPT/6f/0/wEABAD8//b/AgAHAAgA9f8IAAsAEAAAAPf//v8HAP//9v/z/+7/2//g/9T/2f/X/+z/3//V/8n/5v8CAP7/BwAHAAkADwALABwAIwAoAC8AMAAtADEAJgAeACgAJAAXABEACgABAAUAAQD7//X/8P/o/83/4P/s/+v/7//9//3/DAAOABAAGgAZAB8A\" type=\"audio/wav\" />\n",
              "                    Your browser does not support the audio element.\n",
              "                </audio>\n",
              "              "
            ],
            "text/plain": [
              "<IPython.lib.display.Audio object>"
            ]
          },
          "metadata": {
            "tags": []
          },
          "execution_count": 33
        }
      ]
    },
    {
      "cell_type": "markdown",
      "metadata": {
        "id": "pnAaxGw4lytO"
      },
      "source": [
        "We are encoding each word using its index in the list of labels.\n",
        "\n",
        "\n"
      ]
    },
    {
      "cell_type": "code",
      "metadata": {
        "id": "EOyi3f14lytP",
        "colab": {
          "base_uri": "https://localhost:8080/"
        },
        "outputId": "301e24c9-7009-44c5-8801-af3eddb6107b"
      },
      "source": [
        "def label_to_index(word):\n",
        "    # Return the position of the word in labels\n",
        "    return torch.tensor(labels.index(word))\n",
        "\n",
        "\n",
        "def index_to_label(index):\n",
        "    # Return the word corresponding to the index in labels\n",
        "    # This is the inverse of label_to_index\n",
        "    return labels[index]\n",
        "\n",
        "\n",
        "word_start = \"yes\"\n",
        "index = label_to_index(word_start)\n",
        "word_recovered = index_to_label(index)\n",
        "\n",
        "print(word_start, \"-->\", index, \"-->\", word_recovered)"
      ],
      "execution_count": null,
      "outputs": [
        {
          "output_type": "stream",
          "text": [
            "yes --> tensor(33) --> yes\n"
          ],
          "name": "stdout"
        }
      ]
    },
    {
      "cell_type": "markdown",
      "metadata": {
        "id": "Id29l4yylytQ"
      },
      "source": [
        "To turn a list of data point made of audio recordings and utterances\n",
        "into two batched tensors for the model, we implement a collate function\n",
        "which is used by the PyTorch DataLoader that allows us to iterate over a\n",
        "dataset by batches. Please see `the\n",
        "documentation <https://pytorch.org/docs/stable/data.html#working-with-collate-fn>`__\n",
        "for more information about working with a collate function.\n",
        "\n",
        "In the collate function, we also apply the resampling, and the text\n",
        "encoding.\n",
        "\n",
        "\n"
      ]
    },
    {
      "cell_type": "code",
      "metadata": {
        "id": "WYyqMbBYlytQ"
      },
      "source": [
        "def pad_sequence(batch):\n",
        "    # Make all tensor in a batch the same length by padding with zeros\n",
        "    batch = [item.t() for item in batch]\n",
        "    batch = torch.nn.utils.rnn.pad_sequence(batch, batch_first=True, padding_value=0.)\n",
        "    return batch.permute(0, 2, 1)\n",
        "\n",
        "\n",
        "def collate_fn(batch):\n",
        "\n",
        "    # A data tuple has the form:\n",
        "    # waveform, sample_rate, label, speaker_id, utterance_number\n",
        "\n",
        "    tensors, targets = [], []\n",
        "\n",
        "    # Gather in lists, and encode labels as indices\n",
        "    for waveform, _, label, *_ in batch:\n",
        "        tensors += [waveform]\n",
        "        targets += [label_to_index(label)]\n",
        "\n",
        "    # Group the list of tensors into a batched tensor\n",
        "    tensors = pad_sequence(tensors)\n",
        "    targets = torch.stack(targets)\n",
        "\n",
        "    return tensors, targets\n",
        "\n",
        "\n",
        "batch_size = 256\n",
        "\n",
        "if device == \"cuda\":\n",
        "    num_workers = 1\n",
        "    pin_memory = True\n",
        "else:\n",
        "    num_workers = 0\n",
        "    pin_memory = False\n",
        "\n",
        "train_loader = torch.utils.data.DataLoader(\n",
        "    train_set,\n",
        "    batch_size=batch_size,\n",
        "    shuffle=True,\n",
        "    collate_fn=collate_fn,\n",
        "    num_workers=num_workers,\n",
        "    pin_memory=pin_memory,\n",
        ")\n",
        "test_loader = torch.utils.data.DataLoader(\n",
        "    test_set,\n",
        "    batch_size=batch_size,\n",
        "    shuffle=False,\n",
        "    drop_last=False,\n",
        "    collate_fn=collate_fn,\n",
        "    num_workers=num_workers,\n",
        "    pin_memory=pin_memory,\n",
        ")"
      ],
      "execution_count": null,
      "outputs": []
    },
    {
      "cell_type": "markdown",
      "metadata": {
        "id": "v7kmIdzolytR"
      },
      "source": [
        "Define the Network\n",
        "------------------\n",
        "\n",
        "For this tutorial we will use a convolutional neural network to process\n",
        "the raw audio data. Usually more advanced transforms are applied to the\n",
        "audio data, however CNNs can be used to accurately process the raw data.\n",
        "The specific architecture is modeled after the M5 network architecture\n",
        "described in `this paper <https://arxiv.org/pdf/1610.00087.pdf>`__. An\n",
        "important aspect of models processing raw audio data is the receptive\n",
        "field of their first layer’s filters. Our model’s first filter is length\n",
        "80 so when processing audio sampled at 8kHz the receptive field is\n",
        "around 10ms (and at 4kHz, around 20 ms). This size is similar to speech\n",
        "processing applications that often use receptive fields ranging from\n",
        "20ms to 40ms.\n",
        "\n",
        "\n"
      ]
    },
    {
      "cell_type": "code",
      "metadata": {
        "id": "oNyGNkMElytS",
        "colab": {
          "base_uri": "https://localhost:8080/"
        },
        "outputId": "fac86937-0967-402a-aa2e-f956a380cbc2"
      },
      "source": [
        "class M5(nn.Module):\n",
        "    def __init__(self, n_input=1, n_output=35, stride=16, n_channel=32):\n",
        "        super().__init__()\n",
        "        self.conv1 = nn.Conv1d(n_input, n_channel, kernel_size=80, stride=stride)\n",
        "        self.bn1 = nn.BatchNorm1d(n_channel)\n",
        "        self.pool1 = nn.MaxPool1d(4)\n",
        "        self.conv2 = nn.Conv1d(n_channel, n_channel, kernel_size=3)\n",
        "        self.bn2 = nn.BatchNorm1d(n_channel)\n",
        "        self.pool2 = nn.MaxPool1d(4)\n",
        "        self.conv3 = nn.Conv1d(n_channel, 2 * n_channel, kernel_size=3)\n",
        "        self.bn3 = nn.BatchNorm1d(2 * n_channel)\n",
        "        self.pool3 = nn.MaxPool1d(4)\n",
        "        self.conv4 = nn.Conv1d(2 * n_channel, 2 * n_channel, kernel_size=3)\n",
        "        self.bn4 = nn.BatchNorm1d(2 * n_channel)\n",
        "        self.pool4 = nn.MaxPool1d(4)\n",
        "        self.fc1 = nn.Linear(2 * n_channel, n_output)\n",
        "\n",
        "    def forward(self, x):\n",
        "        x = self.conv1(x)\n",
        "        x = F.relu(self.bn1(x))\n",
        "        x = self.pool1(x)\n",
        "        x = self.conv2(x)\n",
        "        x = F.relu(self.bn2(x))\n",
        "        x = self.pool2(x)\n",
        "        x = self.conv3(x)\n",
        "        x = F.relu(self.bn3(x))\n",
        "        x = self.pool3(x)\n",
        "        x = self.conv4(x)\n",
        "        x = F.relu(self.bn4(x))\n",
        "        x = self.pool4(x)\n",
        "        x = F.avg_pool1d(x, x.shape[-1])\n",
        "        x = x.permute(0, 2, 1)\n",
        "        x = self.fc1(x)\n",
        "        return F.log_softmax(x, dim=2)\n",
        "\n",
        "\n",
        "model = M5(n_input=transformed.shape[0], n_output=len(labels))\n",
        "model.to(device)\n",
        "print(model)\n",
        "\n",
        "\n",
        "def count_parameters(model):\n",
        "    return sum(p.numel() for p in model.parameters() if p.requires_grad)\n",
        "\n",
        "\n",
        "n = count_parameters(model)\n",
        "print(\"Number of parameters: %s\" % n)"
      ],
      "execution_count": null,
      "outputs": [
        {
          "output_type": "stream",
          "text": [
            "M5(\n",
            "  (conv1): Conv1d(1, 32, kernel_size=(80,), stride=(16,))\n",
            "  (bn1): BatchNorm1d(32, eps=1e-05, momentum=0.1, affine=True, track_running_stats=True)\n",
            "  (pool1): MaxPool1d(kernel_size=4, stride=4, padding=0, dilation=1, ceil_mode=False)\n",
            "  (conv2): Conv1d(32, 32, kernel_size=(3,), stride=(1,))\n",
            "  (bn2): BatchNorm1d(32, eps=1e-05, momentum=0.1, affine=True, track_running_stats=True)\n",
            "  (pool2): MaxPool1d(kernel_size=4, stride=4, padding=0, dilation=1, ceil_mode=False)\n",
            "  (conv3): Conv1d(32, 64, kernel_size=(3,), stride=(1,))\n",
            "  (bn3): BatchNorm1d(64, eps=1e-05, momentum=0.1, affine=True, track_running_stats=True)\n",
            "  (pool3): MaxPool1d(kernel_size=4, stride=4, padding=0, dilation=1, ceil_mode=False)\n",
            "  (conv4): Conv1d(64, 64, kernel_size=(3,), stride=(1,))\n",
            "  (bn4): BatchNorm1d(64, eps=1e-05, momentum=0.1, affine=True, track_running_stats=True)\n",
            "  (pool4): MaxPool1d(kernel_size=4, stride=4, padding=0, dilation=1, ceil_mode=False)\n",
            "  (fc1): Linear(in_features=64, out_features=35, bias=True)\n",
            ")\n",
            "Number of parameters: 26915\n"
          ],
          "name": "stdout"
        }
      ]
    },
    {
      "cell_type": "markdown",
      "metadata": {
        "id": "HH9R4JVFlytT"
      },
      "source": [
        "We will use the same optimization technique used in the paper, an Adam\n",
        "optimizer with weight decay set to 0.0001. At first, we will train with\n",
        "a learning rate of 0.01, but we will use a ``scheduler`` to decrease it\n",
        "to 0.001 during training after 20 epochs.\n",
        "\n",
        "\n"
      ]
    },
    {
      "cell_type": "code",
      "metadata": {
        "id": "XFR4wT7KlytT"
      },
      "source": [
        "optimizer = optim.Adam(model.parameters(), lr=0.01, weight_decay=0.0001)\n",
        "scheduler = optim.lr_scheduler.StepLR(optimizer, step_size=20, gamma=0.1)  # reduce the learning after 20 epochs by a factor of 10"
      ],
      "execution_count": null,
      "outputs": []
    },
    {
      "cell_type": "markdown",
      "metadata": {
        "id": "N5SunJTOlytU"
      },
      "source": [
        "Training and Testing the Network\n",
        "--------------------------------\n",
        "\n",
        "Now let’s define a training function that will feed our training data\n",
        "into the model and perform the backward pass and optimization steps. For\n",
        "training, the loss we will use is the negative log-likelihood. The\n",
        "network will then be tested after each epoch to see how the accuracy\n",
        "varies during the training.\n",
        "\n",
        "\n"
      ]
    },
    {
      "cell_type": "code",
      "metadata": {
        "id": "UJywprBTlytU"
      },
      "source": [
        "def train(model, epoch, log_interval):\n",
        "    model.train()\n",
        "    for batch_idx, (data, target) in enumerate(train_loader):\n",
        "\n",
        "        data = data.to(device)\n",
        "        target = target.to(device)\n",
        "\n",
        "        # apply transform and model on whole batch directly on device\n",
        "        data = transform(data)\n",
        "        output = model(data)\n",
        "\n",
        "        # negative log-likelihood for a tensor of size (batch x 1 x n_output)\n",
        "        loss = F.nll_loss(output.squeeze(), target)\n",
        "\n",
        "        optimizer.zero_grad()\n",
        "        loss.backward()\n",
        "        optimizer.step()\n",
        "\n",
        "        # print training stats\n",
        "        if batch_idx % log_interval == 0:\n",
        "            print(f\"Train Epoch: {epoch} [{batch_idx * len(data)}/{len(train_loader.dataset)} ({100. * batch_idx / len(train_loader):.0f}%)]\\tLoss: {loss.item():.6f}\")\n",
        "\n",
        "        # update progress bar\n",
        "        pbar.update(pbar_update)\n",
        "        # record loss\n",
        "        losses.append(loss.item())"
      ],
      "execution_count": null,
      "outputs": []
    },
    {
      "cell_type": "markdown",
      "metadata": {
        "id": "aZHWC7IxlytV"
      },
      "source": [
        "Now that we have a training function, we need to make one for testing\n",
        "the networks accuracy. We will set the model to ``eval()`` mode and then\n",
        "run inference on the test dataset. Calling ``eval()`` sets the training\n",
        "variable in all modules in the network to false. Certain layers like\n",
        "batch normalization and dropout layers behave differently during\n",
        "training so this step is crucial for getting correct results.\n",
        "\n",
        "\n"
      ]
    },
    {
      "cell_type": "code",
      "metadata": {
        "id": "Z9vkfE_rlytW"
      },
      "source": [
        "def number_of_correct(pred, target):\n",
        "    # count number of correct predictions\n",
        "    return pred.squeeze().eq(target).sum().item()\n",
        "\n",
        "\n",
        "def get_likely_index(tensor):\n",
        "    # find most likely label index for each element in the batch\n",
        "    return tensor.argmax(dim=-1)\n",
        "\n",
        "\n",
        "def test(model, epoch):\n",
        "    model.eval()\n",
        "    correct = 0\n",
        "    for data, target in test_loader:\n",
        "\n",
        "        data = data.to(device)\n",
        "        target = target.to(device)\n",
        "\n",
        "        # apply transform and model on whole batch directly on device\n",
        "        data = transform(data)\n",
        "        output = model(data)\n",
        "\n",
        "        pred = get_likely_index(output)\n",
        "        correct += number_of_correct(pred, target)\n",
        "\n",
        "        # update progress bar\n",
        "        pbar.update(pbar_update)\n",
        "\n",
        "    print(f\"\\nTest Epoch: {epoch}\\tAccuracy: {correct}/{len(test_loader.dataset)} ({100. * correct / len(test_loader.dataset):.0f}%)\\n\")"
      ],
      "execution_count": null,
      "outputs": []
    },
    {
      "cell_type": "markdown",
      "metadata": {
        "id": "rjTHdMjHlytW"
      },
      "source": [
        "Finally, we can train and test the network. We will train the network\n",
        "for ten epochs then reduce the learn rate and train for ten more epochs.\n",
        "The network will be tested after each epoch to see how the accuracy\n",
        "varies during the training.\n",
        "\n",
        "\n"
      ]
    },
    {
      "cell_type": "code",
      "metadata": {
        "id": "UQDIe2KWlytX",
        "colab": {
          "base_uri": "https://localhost:8080/",
          "height": 978
        },
        "outputId": "2087db74-f28c-4a52-c8ee-4a5553f7e417"
      },
      "source": [
        "log_interval = 20\n",
        "n_epoch = 2\n",
        "\n",
        "pbar_update = 1 / (len(train_loader) + len(test_loader))\n",
        "losses = []\n",
        "\n",
        "# The transform needs to live on the same device as the model and the data.\n",
        "transform = transform.to(device)\n",
        "with tqdm(total=n_epoch) as pbar:\n",
        "    for epoch in range(1, n_epoch + 1):\n",
        "        train(model, epoch, log_interval)\n",
        "        test(model, epoch)\n",
        "        scheduler.step()\n",
        "\n",
        "# Let's plot the training loss versus the number of iteration.\n",
        "plt.plot(losses);\n",
        "plt.title(\"training loss\");"
      ],
      "execution_count": null,
      "outputs": [
        {
          "output_type": "stream",
          "text": [
            "  0%|          | 0.005333333333333333/2 [00:00<02:08, 64.48s/it] "
          ],
          "name": "stderr"
        },
        {
          "output_type": "stream",
          "text": [
            "Train Epoch: 1 [0/84843 (0%)]\tLoss: 1.856263\n"
          ],
          "name": "stdout"
        },
        {
          "output_type": "stream",
          "text": [
            "  3%|▎         | 0.05866666666666665/2 [00:03<02:01, 62.51s/it]"
          ],
          "name": "stderr"
        },
        {
          "output_type": "stream",
          "text": [
            "Train Epoch: 1 [5120/84843 (6%)]\tLoss: 1.650699\n"
          ],
          "name": "stdout"
        },
        {
          "output_type": "stream",
          "text": [
            "  6%|▌         | 0.11199999999999995/2 [00:06<01:47, 56.73s/it]"
          ],
          "name": "stderr"
        },
        {
          "output_type": "stream",
          "text": [
            "Train Epoch: 1 [10240/84843 (12%)]\tLoss: 1.656485\n"
          ],
          "name": "stdout"
        },
        {
          "output_type": "stream",
          "text": [
            "  8%|▊         | 0.16533333333333344/2 [00:10<01:53, 61.82s/it]"
          ],
          "name": "stderr"
        },
        {
          "output_type": "stream",
          "text": [
            "Train Epoch: 1 [15360/84843 (18%)]\tLoss: 1.328646\n"
          ],
          "name": "stdout"
        },
        {
          "output_type": "stream",
          "text": [
            " 11%|█         | 0.218666666666667/2 [00:13<01:52, 62.98s/it]  "
          ],
          "name": "stderr"
        },
        {
          "output_type": "stream",
          "text": [
            "Train Epoch: 1 [20480/84843 (24%)]\tLoss: 1.384876\n"
          ],
          "name": "stdout"
        },
        {
          "output_type": "stream",
          "text": [
            " 14%|█▎        | 0.27200000000000035/2 [00:16<01:51, 64.70s/it]"
          ],
          "name": "stderr"
        },
        {
          "output_type": "stream",
          "text": [
            "Train Epoch: 1 [25600/84843 (30%)]\tLoss: 1.388018\n"
          ],
          "name": "stdout"
        },
        {
          "output_type": "stream",
          "text": [
            " 16%|█▋        | 0.32533333333333336/2 [00:20<01:52, 67.35s/it]"
          ],
          "name": "stderr"
        },
        {
          "output_type": "stream",
          "text": [
            "Train Epoch: 1 [30720/84843 (36%)]\tLoss: 1.289868\n"
          ],
          "name": "stdout"
        },
        {
          "output_type": "stream",
          "text": [
            " 19%|█▉        | 0.3786666666666664/2 [00:24<01:55, 70.95s/it]"
          ],
          "name": "stderr"
        },
        {
          "output_type": "stream",
          "text": [
            "Train Epoch: 1 [35840/84843 (42%)]\tLoss: 1.240335\n"
          ],
          "name": "stdout"
        },
        {
          "output_type": "stream",
          "text": [
            " 22%|██▏       | 0.4319999999999994/2 [00:28<01:53, 72.50s/it] "
          ],
          "name": "stderr"
        },
        {
          "output_type": "stream",
          "text": [
            "Train Epoch: 1 [40960/84843 (48%)]\tLoss: 1.308668\n"
          ],
          "name": "stdout"
        },
        {
          "output_type": "stream",
          "text": [
            " 24%|██▍       | 0.4853333333333324/2 [00:32<01:54, 75.72s/it] "
          ],
          "name": "stderr"
        },
        {
          "output_type": "stream",
          "text": [
            "Train Epoch: 1 [46080/84843 (54%)]\tLoss: 1.313726\n"
          ],
          "name": "stdout"
        },
        {
          "output_type": "stream",
          "text": [
            " 27%|██▋       | 0.5386666666666662/2 [00:36<01:45, 72.48s/it]"
          ],
          "name": "stderr"
        },
        {
          "output_type": "stream",
          "text": [
            "Train Epoch: 1 [51200/84843 (60%)]\tLoss: 1.124913\n"
          ],
          "name": "stdout"
        },
        {
          "output_type": "stream",
          "text": [
            " 30%|██▉       | 0.5920000000000003/2 [00:40<01:45, 74.86s/it]"
          ],
          "name": "stderr"
        },
        {
          "output_type": "stream",
          "text": [
            "Train Epoch: 1 [56320/84843 (66%)]\tLoss: 1.223377\n"
          ],
          "name": "stdout"
        },
        {
          "output_type": "stream",
          "text": [
            " 32%|███▏      | 0.6453333333333344/2 [00:44<01:40, 74.29s/it]"
          ],
          "name": "stderr"
        },
        {
          "output_type": "stream",
          "text": [
            "Train Epoch: 1 [61440/84843 (72%)]\tLoss: 0.926217\n"
          ],
          "name": "stdout"
        },
        {
          "output_type": "stream",
          "text": [
            " 35%|███▍      | 0.6986666666666685/2 [00:48<01:33, 71.75s/it]"
          ],
          "name": "stderr"
        },
        {
          "output_type": "stream",
          "text": [
            "Train Epoch: 1 [66560/84843 (78%)]\tLoss: 1.052561\n"
          ],
          "name": "stdout"
        },
        {
          "output_type": "stream",
          "text": [
            " 38%|███▊      | 0.7520000000000027/2 [00:52<01:37, 78.37s/it]"
          ],
          "name": "stderr"
        },
        {
          "output_type": "stream",
          "text": [
            "Train Epoch: 1 [71680/84843 (84%)]\tLoss: 1.022228\n"
          ],
          "name": "stdout"
        },
        {
          "output_type": "stream",
          "text": [
            " 40%|████      | 0.8053333333333368/2 [00:56<01:25, 71.81s/it]"
          ],
          "name": "stderr"
        },
        {
          "output_type": "stream",
          "text": [
            "Train Epoch: 1 [76800/84843 (90%)]\tLoss: 1.112006\n"
          ],
          "name": "stdout"
        },
        {
          "output_type": "stream",
          "text": [
            " 43%|████▎     | 0.8586666666666709/2 [01:00<01:24, 74.01s/it]"
          ],
          "name": "stderr"
        },
        {
          "output_type": "stream",
          "text": [
            "Train Epoch: 1 [81920/84843 (96%)]\tLoss: 1.192343\n"
          ],
          "name": "stdout"
        },
        {
          "output_type": "stream",
          "text": [
            " 50%|█████     | 1.0026666666666728/2 [01:18<01:46, 106.44s/it]"
          ],
          "name": "stderr"
        },
        {
          "output_type": "stream",
          "text": [
            "\n",
            "Test Epoch: 1\tAccuracy: 7353/11005 (67%)\n",
            "\n",
            "Train Epoch: 2 [0/84843 (0%)]\tLoss: 0.957067\n"
          ],
          "name": "stdout"
        },
        {
          "output_type": "stream",
          "text": [
            " 53%|█████▎    | 1.061333333333338/2 [01:20<00:28, 30.84s/it] "
          ],
          "name": "stderr"
        },
        {
          "output_type": "stream",
          "text": [
            "Train Epoch: 2 [5120/84843 (6%)]\tLoss: 1.005215\n"
          ],
          "name": "stdout"
        },
        {
          "output_type": "stream",
          "text": [
            " 56%|█████▌    | 1.1146666666666698/2 [01:21<00:25, 28.71s/it]"
          ],
          "name": "stderr"
        },
        {
          "output_type": "stream",
          "text": [
            "Train Epoch: 2 [10240/84843 (12%)]\tLoss: 1.023402\n"
          ],
          "name": "stdout"
        },
        {
          "output_type": "stream",
          "text": [
            " 58%|█████▊    | 1.1680000000000017/2 [01:23<00:23, 28.84s/it]"
          ],
          "name": "stderr"
        },
        {
          "output_type": "stream",
          "text": [
            "Train Epoch: 2 [15360/84843 (18%)]\tLoss: 1.237177\n"
          ],
          "name": "stdout"
        },
        {
          "output_type": "stream",
          "text": [
            " 61%|██████    | 1.2213333333333336/2 [01:24<00:22, 28.38s/it]"
          ],
          "name": "stderr"
        },
        {
          "output_type": "stream",
          "text": [
            "Train Epoch: 2 [20480/84843 (24%)]\tLoss: 1.080972\n"
          ],
          "name": "stdout"
        },
        {
          "output_type": "stream",
          "text": [
            " 64%|██████▎   | 1.2746666666666655/2 [01:26<00:20, 28.10s/it]"
          ],
          "name": "stderr"
        },
        {
          "output_type": "stream",
          "text": [
            "Train Epoch: 2 [25600/84843 (30%)]\tLoss: 1.121771\n"
          ],
          "name": "stdout"
        },
        {
          "output_type": "stream",
          "text": [
            " 66%|██████▋   | 1.3279999999999974/2 [01:27<00:19, 28.48s/it]"
          ],
          "name": "stderr"
        },
        {
          "output_type": "stream",
          "text": [
            "Train Epoch: 2 [30720/84843 (36%)]\tLoss: 1.076804\n"
          ],
          "name": "stdout"
        },
        {
          "output_type": "stream",
          "text": [
            " 69%|██████▉   | 1.3813333333333293/2 [01:29<00:17, 28.35s/it]"
          ],
          "name": "stderr"
        },
        {
          "output_type": "stream",
          "text": [
            "Train Epoch: 2 [35840/84843 (42%)]\tLoss: 0.949142\n"
          ],
          "name": "stdout"
        },
        {
          "output_type": "stream",
          "text": [
            " 72%|███████▏  | 1.4346666666666612/2 [01:30<00:16, 28.33s/it]"
          ],
          "name": "stderr"
        },
        {
          "output_type": "stream",
          "text": [
            "Train Epoch: 2 [40960/84843 (48%)]\tLoss: 0.882916\n"
          ],
          "name": "stdout"
        },
        {
          "output_type": "stream",
          "text": [
            " 74%|███████▍  | 1.487999999999993/2 [01:32<00:14, 28.49s/it]"
          ],
          "name": "stderr"
        },
        {
          "output_type": "stream",
          "text": [
            "Train Epoch: 2 [46080/84843 (54%)]\tLoss: 0.886167\n"
          ],
          "name": "stdout"
        },
        {
          "output_type": "stream",
          "text": [
            " 77%|███████▋  | 1.541333333333325/2 [01:33<00:13, 28.65s/it] "
          ],
          "name": "stderr"
        },
        {
          "output_type": "stream",
          "text": [
            "Train Epoch: 2 [51200/84843 (60%)]\tLoss: 0.843745\n"
          ],
          "name": "stdout"
        },
        {
          "output_type": "stream",
          "text": [
            " 80%|███████▉  | 1.594666666666657/2 [01:35<00:11, 28.73s/it] "
          ],
          "name": "stderr"
        },
        {
          "output_type": "stream",
          "text": [
            "Train Epoch: 2 [56320/84843 (66%)]\tLoss: 0.758442\n"
          ],
          "name": "stdout"
        },
        {
          "output_type": "stream",
          "text": [
            " 82%|████████▏ | 1.6479999999999888/2 [01:36<00:10, 28.74s/it]"
          ],
          "name": "stderr"
        },
        {
          "output_type": "stream",
          "text": [
            "Train Epoch: 2 [61440/84843 (72%)]\tLoss: 1.061486\n"
          ],
          "name": "stdout"
        },
        {
          "output_type": "stream",
          "text": [
            " 85%|████████▌ | 1.7013333333333207/2 [01:38<00:08, 28.14s/it]"
          ],
          "name": "stderr"
        },
        {
          "output_type": "stream",
          "text": [
            "Train Epoch: 2 [66560/84843 (78%)]\tLoss: 0.886478\n"
          ],
          "name": "stdout"
        },
        {
          "output_type": "stream",
          "text": [
            " 88%|████████▊ | 1.7546666666666526/2 [01:40<00:07, 29.36s/it]"
          ],
          "name": "stderr"
        },
        {
          "output_type": "stream",
          "text": [
            "Train Epoch: 2 [71680/84843 (84%)]\tLoss: 1.050729\n"
          ],
          "name": "stdout"
        },
        {
          "output_type": "stream",
          "text": [
            " 90%|█████████ | 1.8079999999999845/2 [01:41<00:05, 28.78s/it]"
          ],
          "name": "stderr"
        },
        {
          "output_type": "stream",
          "text": [
            "Train Epoch: 2 [76800/84843 (90%)]\tLoss: 0.893686\n"
          ],
          "name": "stdout"
        },
        {
          "output_type": "stream",
          "text": [
            " 93%|█████████▎| 1.8613333333333164/2 [01:43<00:04, 29.09s/it]"
          ],
          "name": "stderr"
        },
        {
          "output_type": "stream",
          "text": [
            "Train Epoch: 2 [81920/84843 (96%)]\tLoss: 0.862183\n"
          ],
          "name": "stdout"
        },
        {
          "output_type": "stream",
          "text": [
            "100%|█████████▉| 1.9999999999999793/2 [01:46<00:00, 53.02s/it]\n"
          ],
          "name": "stderr"
        },
        {
          "output_type": "stream",
          "text": [
            "\n",
            "Test Epoch: 2\tAccuracy: 6501/11005 (59%)\n",
            "\n"
          ],
          "name": "stdout"
        },
        {
          "output_type": "display_data",
          "data": {
            "image/png": "[encoded data removed]",
            "text/plain": [
              "<Figure size 432x288 with 1 Axes>"
            ]
          },
          "metadata": {
            "tags": [],
            "needs_background": "light"
          }
        }
      ]
    },
    {
      "cell_type": "markdown",
      "metadata": {
        "id": "I-XM-dA6lytY"
      },
      "source": [
        "The network should be more than 65% accurate on the test set after 2\n",
        "epochs, and 85% after 21 epochs. Let’s look at the last words in the\n",
        "train set, and see how the model did on it.\n",
        "\n",
        "\n"
      ]
    },
    {
      "cell_type": "code",
      "metadata": {
        "id": "6mznjB4jlyta",
        "colab": {
          "base_uri": "https://localhost:8080/"
        },
        "outputId": "fd849385-2542-424b-fd98-ef07ed12f883"
      },
      "source": [
        "def predict(tensor):\n",
        "    # Use the model to predict the label of the waveform\n",
        "    tensor = tensor.to(device)\n",
        "    tensor = transform(tensor)\n",
        "    tensor = model(tensor.unsqueeze(0))\n",
        "    tensor = get_likely_index(tensor)\n",
        "    tensor = index_to_label(tensor.squeeze())\n",
        "    return tensor\n",
        "\n",
        "\n",
        "waveform, sample_rate, utterance, *_ = train_set[-1]\n",
        "ipd.Audio(waveform.numpy(), rate=sample_rate)\n",
        "\n",
        "print(f\"Expected: {utterance}. Predicted: {predict(waveform)}.\")"
      ],
      "execution_count": null,
      "outputs": [
        {
          "output_type": "stream",
          "text": [
            "Expected: zero. Predicted: zero.\n"
          ],
          "name": "stdout"
        }
      ]
    },
    {
      "cell_type": "markdown",
      "metadata": {
        "id": "s2Q0bcRElytc"
      },
      "source": [
        "Let’s find an example that isn’t classified correctly, if there is one.\n",
        "\n",
        "\n"
      ]
    },
    {
      "cell_type": "code",
      "metadata": {
        "id": "DSwGJP_Alyte",
        "colab": {
          "base_uri": "https://localhost:8080/"
        },
        "outputId": "5a6e4251-8e45-436b-ec94-1f160335c699"
      },
      "source": [
        "for i, (waveform, sample_rate, utterance, *_) in enumerate(test_set):\n",
        "    output = predict(waveform)\n",
        "    if output != utterance:\n",
        "        ipd.Audio(waveform.numpy(), rate=sample_rate)\n",
        "        print(f\"Data point #{i}. Expected: {utterance}. Predicted: {output}.\")\n",
        "        break\n",
        "else:\n",
        "    print(\"All examples in this dataset were correctly classified!\")\n",
        "    print(\"In this case, let's just look at the last data point\")\n",
        "    ipd.Audio(waveform.numpy(), rate=sample_rate)\n",
        "    print(f\"Data point #{i}. Expected: {utterance}. Predicted: {output}.\")"
      ],
      "execution_count": null,
      "outputs": [
        {
          "output_type": "stream",
          "text": [
            "Data point #1. Expected: right. Predicted: sheila.\n"
          ],
          "name": "stdout"
        }
      ]
    },
    {
      "cell_type": "markdown",
      "metadata": {
        "id": "NV7EZNQGlytf"
      },
      "source": [
        "Feel free to try with one of your own recordings of one of the labels!\n",
        "For example, using Colab, say “Go” while executing the cell below. This\n",
        "will record one second of audio and try to classify it.\n",
        "\n",
        "\n"
      ]
    },
    {
      "cell_type": "markdown",
      "metadata": {
        "id": "gDr3cZNGlyth"
      },
      "source": [
        "Conclusion\n",
        "----------\n",
        "\n",
        "In this tutorial, we used torchaudio to load a dataset and resample the\n",
        "signal. We have then defined a neural network that we trained to\n",
        "recognize a given command. There are also other data preprocessing\n",
        "methods, such as finding the mel frequency cepstral coefficients (MFCC),\n",
        "that can reduce the size of the dataset. This transform is also\n",
        "available in torchaudio as ``torchaudio.transforms.MFCC``.\n",
        "\n",
        "\n"
      ]
    }
  ]
}